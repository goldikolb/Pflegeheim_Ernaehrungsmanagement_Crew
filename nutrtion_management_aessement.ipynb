{
 "cells": [
  {
   "cell_type": "code",
   "execution_count": 1,
   "metadata": {
    "metadata": {}
   },
   "outputs": [],
   "source": [
    "# Warning control\n",
    "import warnings\n",
    "warnings.filterwarnings('ignore')"
   ]
  },
  {
   "cell_type": "code",
   "execution_count": 2,
   "metadata": {
    "metadata": {}
   },
   "outputs": [],
   "source": [
    "from crewai import Agent, Task, Crew"
   ]
  },
  {
   "cell_type": "code",
   "execution_count": null,
   "metadata": {},
   "outputs": [],
   "source": [
    "import os\n",
    "from utils import get_openai_api_key, get_serper_api_key\n",
    "\n",
    "openai_api_key = get_openai_api_key()\n",
    "os.environ[\"OPENAI_MODEL_NAME\"] = 'gpt-4o'\n",
    "os.environ[\"SERPER_API_KEY\"] = get_serper_api_key()"
   ]
  },
  {
   "cell_type": "markdown",
   "metadata": {},
   "source": [
    "# crewAI Tools"
   ]
  },
  {
   "cell_type": "code",
   "execution_count": null,
   "metadata": {},
   "outputs": [],
   "source": [
    "from crewai_tools import (\n",
    "  ScrapeWebsiteTool,\n",
    "  SerperDevTool,\n",
    "  PDFSearchTool,\n",
    ")\n",
    "\n",
    "search_tool = SerperDevTool()\n",
    "scrape_tool = ScrapeWebsiteTool()\n",
    "nurse_dirctory = PDFSearchTool(directory='sources/nurse/EssenTrinken_im_Alter.pdf')"
   ]
  },
  {
   "cell_type": "markdown",
   "metadata": {},
   "source": [
    "# Creating Agents"
   ]
  },
  {
   "cell_type": "code",
   "execution_count": null,
   "metadata": {},
   "outputs": [],
   "source": [
    "# Agent 1: Pflegefachkraft\n",
    "nurse = Agent(\n",
    "    role=\"geriatric nurse\",\n",
    "    goal=\"Erstellt eine individuelle Pflegeplanung\"\n",
    "         \"für das Ernährungsmanagement bei der Aufnahme {anamnese}\"\n",
    "         \"eines neuen Bewohner in der Pflegeeinrichtung,\"\n",
    "         \"als Ergbnis der interdisziplnären Zusammenarbeit\"\n",
    "         \"mit den anderen Berufsgruppen (Agenten)\",\n",
    "    tools = [scrape_tool, search_tool, nurse_dirctory],\n",
    "    verbose=True,\n",
    "    backstory=(\n",
    "        \"Als Pflegefachkraft erstellst du anhand der Anamnese \"\n",
    "        \"des Bewohners eine individuelle Pflegeplanung.\"\n",
    "        \"Du sammelst alle Ergebnisse und Informationen,\"\n",
    "        \"von dem Bewohner, dem Arzt und der Diätassistentin. \"\n",
    "        \"Du arbeitest Interdisziplinär und du bist zuständig für\"\n",
    "        \"den kompletten Pflegeprozess ('https://de.wikipedia.org/wiki/Pflegeplanung') \"\n",
    "        \"zum Ernährungsmanagement des Bewohners.\"\n",
    "    )\n",
    ")"
   ]
  },
  {
   "cell_type": "code",
   "execution_count": null,
   "metadata": {},
   "outputs": [],
   "source": [
    "# Agent 2: Ernährungsmediziner\n",
    "doctor = Agent(\n",
    "    role=\"Ernährungsmediziner\",\n",
    "    goal=\"Abklärung des individuellen Ernährungsrisiko \"\n",
    "         \"des Bewohners anhand der medizinischen Angaben {medical}\",\n",
    "    tools = [scrape_tool, search_tool],\n",
    "    verbose=True,\n",
    "    backstory=(\n",
    "        \"Du gibst eine Einschätzung des Bewohners bezogen auf \"\n",
    "        \"sein Ernährungsrisiko aus medizinischer Sicht. \"\n",
    "        \"Du analysiert die akuten und chronischen Krankheiten\"\n",
    "        \"und verschaffst dir einen Überblick zu den Medikamenten.\"\n",
    "        \"Die Grundlage für deine Einschätzung sind die allgemein\"\n",
    "        \"anerkannten medizinsichen Leitlinien.\"\n",
    "    )\n",
    ")"
   ]
  },
  {
   "cell_type": "code",
   "execution_count": null,
   "metadata": {},
   "outputs": [],
   "source": [
    "# Agent 2: Diätassistentin\n",
    "diaet = Agent(\n",
    "    role=\"Diätassistentin\",\n",
    "    goal=\"Erstellen eines individuellen Ernährungsplan \"\n",
    "         \"anhand der Vorlieben des Bewohners {biografie}.\",\n",
    "    tools = [scrape_tool, search_tool],\n",
    "    verbose=True,\n",
    "    backstory=(\n",
    "        \"Du bist eine Diätassitentin, spezialsiert auf Ernährungsprobleme\"\n",
    "        \"im Alter. Du sammelst alle notwendigen Informationen\"\n",
    "        \"damit du für die Küche des Pflegeheimes einen individuellen\"\n",
    "        \"Ernährungsplan erstellen kannst. Die \"\n",
    "    )\n",
    ")"
   ]
  },
  {
   "cell_type": "markdown",
   "metadata": {},
   "source": [
    "# Creating Tasks"
   ]
  },
  {
   "cell_type": "code",
   "execution_count": null,
   "metadata": {},
   "outputs": [],
   "source": [
    "# Erstellen der Pflegediagnose\n",
    "nurse_diagnose = Task(\n",
    "    description=(\n",
    "        \"Erstellen anhand der {anamnese} eine individuelle Risikoeinschätzung \"\n",
    "        \"anhand von PEMU. Die Grundlage deiner Einsätzung ist \"\n",
    "        \"Expertenstandard Ernährungsmanagement in der Pflege. Deine \"\n",
    "        \"Aufgabe ist es bei Einzug des Bewohners alle wichtigen Maßnahmen\"\n",
    "        \"zu erfassen, um ein Ernährungsrisiko zu erkennen, falls eines vorhanden ist.\"\n",
    "    ),\n",
    "    expected_output=(\n",
    "        \"Eine systematische pflegerische Einschätzung des\"\n",
    "        \"Risiko für Nahrungsmangel und Risiko für Flüssigkeitsmangel\"\n",
    "    ),\n",
    "    agent=nurse,\n",
    "    tools = [nurse_dirctory],\n",
    "    async_execution=True\n",
    ")"
   ]
  },
  {
   "cell_type": "code",
   "execution_count": null,
   "metadata": {},
   "outputs": [],
   "source": [
    "# Ernährungsmedizinische Einschätzung\n",
    "medical_diagnose = Task(\n",
    "    description=(\n",
    "        \"Auf Grundlage der medizinischen Leitlinien analysierst du die physische Situation des Bewohners anhand der vorliegenden Angaben {medical}. \"\n",
    "        \"Du gibst Empfehlungen ab, für notwendige medizinische Maßnahmen. \"\n",
    "        \"Du analyisert die Medikamente auf ihr Risiko, bezogen zu Ernärhungsproblemen.\"\n",
    "        \"Du erstellst einen Plan für die Pflegefachkraft, auf welche \"\n",
    "        \"Risiken, wie zum Beispiel Wassereinlagerung, Nebenwirkungen, Symptome und\"\n",
    "        \"anderes die Pflegefachkraft achten muss.\"\n",
    "    ),\n",
    "    expected_output=(\n",
    "        \"Eine Zusammenfassung der medizinischen Analyse nach: \"\n",
    "        \"Mediznische Einschrätzung des Ernährungsrisiko:\"\n",
    "        \"Medikamentenempfehlung: \"\n",
    "        \"Akute notwendige Untersuchungen: \"\n",
    "        \"Symptomkontrolle, Empfehlung pflegerischer Maßnahmen. \"\n",
    "    ),\n",
    "    agent=doctor,\n",
    "    output_file=\"medical_report.md\",\n",
    "    async_execution=True\n",
    ")"
   ]
  },
  {
   "cell_type": "code",
   "execution_count": null,
   "metadata": {},
   "outputs": [],
   "source": [
    "# Ernärhungsplan\n",
    "nutrtion_plan = Task(\n",
    "    description=(\n",
    "        \"Auf Grundlage der ernährungswissenschaftlichen Erkenntnissen und\"\n",
    "        \"der Vorlieben der Bewohner, erstellst du einen individuellen Ernährungsplan.\"\n",
    "        \"Dabei berücksichtigst du, die medizinische Analyse und die Erkenntnisse der Pflegefachraft.\"\n",
    "        \"Du definierst die notwendigen Kalorien bezogen auf das Ernährungsrisiko und gibts eine Empfehlung für die notwenidige Trinkmenge. \"\n",
    "    ),\n",
    "    expected_output=(\n",
    "        \"Du erstellst einen indivudllen Ernährungsplan einen Tag in einer Tabelle (csv)\"\n",
    "        \"In dieser Tabelle unterteilst du nach folgende Spalten <Frühstück>, <Zwischenmahlzeit>,\"\n",
    "        \"<Mittagessen>, <Zwischenmahlzeit>, <Abendessen>, <Gesamtkalorien für einen Tag>.\"\n",
    "        \"Die Zeilen unterteilst du in die <Wochentage>.\"\n",
    "    ),\n",
    "    agent=diaet,\n",
    "    output_file=\"nutrtion_plan.csv\",\n",
    "    context=[medical_diagnose],\n",
    "    async_execution=False\n",
    ")"
   ]
  },
  {
   "cell_type": "code",
   "execution_count": null,
   "metadata": {},
   "outputs": [],
   "source": [
    "# Erstellen der Pflegeplanung\n",
    "care_process = Task(\n",
    "    description=(\n",
    "        \"Auf Grundlage der pflegerischen, medizinischen und ernährungswissenschaftlichen Erkenntnissen, analysierst du das Ernährungsrisiko und erstellst eine individuelle Pflegeplanung für den Bewohner.\"\n",
    "    ),\n",
    "    expected_output=(\n",
    "        \"Du erstellst am Ende aller Erkenntnisse eine individuelle Pflegeplanung zum Ernährungsmanagement für den Bewohner.\"\n",
    "        \"Du beschreibst das Pflegeproblem und die Resourcen des Bewohners.\"\n",
    "        \"Du definierst die Pflegediagnose.\"\n",
    "        \"Du definierst ein Pflegeziel.\"\n",
    "        \"Du beschreibst die geeigneten Maßnahmen.\"\n",
    "        \"Du definierst wann der Pflegeprozess geprüft werden soll.\"\n",
    "    ),\n",
    "    agent=nurse,\n",
    "    output_file=\"care_plan.md\",\n",
    "    async_execution=False\n",
    ")"
   ]
  },
  {
   "cell_type": "markdown",
   "metadata": {},
   "source": [
    "# Creating the Crew"
   ]
  },
  {
   "cell_type": "code",
   "execution_count": null,
   "metadata": {},
   "outputs": [],
   "source": [
    "# Define the crew with agents and tasks\n",
    "nutrtion_risk_crew = Crew(\n",
    "    agents=[nurse, \n",
    "            doctor, \n",
    "            diaet],\n",
    "    \n",
    "    tasks=[nurse_diagnose, \n",
    "           medical_diagnose, \n",
    "           nutrtion_plan,\n",
    "           care_process],\n",
    "    \n",
    "    verbose=True\n",
    ")"
   ]
  },
  {
   "cell_type": "markdown",
   "metadata": {},
   "source": [
    "# Der Einzug erfolgt, der Pflegeplan wird erstellt"
   ]
  },
  {
   "cell_type": "code",
   "execution_count": null,
   "metadata": {},
   "outputs": [],
   "source": [
    "anmanese_details_input = {\n",
    "    'anamnese': \"Herr Karl, Maier ist 85 Jahre alt. Er ist 175cm groß und er wiegt 65kg. Er hat in den letzten 6 Monaten 7kg abgenommen. Er hat bisher alleine zuhause gelebt, aber ist hier nicht mehr zurechtgekommen. Seine Frau ist vor 8 Monaten verstorben und er konnte sich nicht mehr versorgen. Er hat eine mittelgradige Demenz und er konnte seinen Einkauf nicht mehr organisieren. zuletzt musste er wegen Exikkose in die Klinik, weil er zu wenig getrunken hat. Er ist eigentlich noch sehr mobil und kann selbständig gehen, allerdings ist er vor 3 Monaten das erste mal gestürzt, jedoch ohne Folgen. Er hat noch eigene Zähne, er fühlt sich aber in der letzten Zeit immer sehr müde. Zur Körperpflege reicht es wenn man ihn auffordert. Überschluckstörungen klagt er nicht. Er kann auch noch feste Speisen schneiden und alleine essen. Er klagt auch darüber, dass er immer schlechter sehen kann. Er hat aber nur eine Tochter, die in Amerika lebt. Arztbesuche konnte er nicht mehr für sich organisieren, wegen seiner Demenz. Er hat einen Betreuer. \",\n",
    "    'medical': \"Herr Karl, Maier hat folgende Diagnosen: Mittelgradige Demenz, Herzinsuffizienz, COPD GOLD Stadium 2, Coxarthrose links. Vor drei Monaten war er im Krankenhaus wegen einer Exikkose. Seite Vitalzeichen sind unauffällig, er hat jedoch auffällig an Gewicht abgenommen, seit dem Tod seiner Frau. Deswegen bekommt er Citalopram und wenn er am Abend nicht schlafen kann, kann er eine Tavor nehmen. ER nimmt noch folgende Medikamente, am Morgem Ramipril 5mg, Metoprolol 47,5mg und Simvastatin.\",\n",
    "    'biografie': \"Herr Karl, Maier ist am liebsten deftig. Er mag kein Obst und Gemüse. Er isst am liebsten Fleisch und Wurst. Allergien und Unverträglichkeiten sind nicht bekannt. In letzter Zeit hat sich aber meistens nur von Süßigkeiten ernährt, weil ihm nichts mehr wirklich schmeckt.\",\n",
    "}"
   ]
  },
  {
   "cell_type": "code",
   "execution_count": null,
   "metadata": {},
   "outputs": [],
   "source": [
    "### this execution will take a few minutes to run\n",
    "result = nutrtion_risk_crew.kickoff(inputs=anmanese_details_input)"
   ]
  },
  {
   "cell_type": "code",
   "execution_count": null,
   "metadata": {},
   "outputs": [],
   "source": [
    "from IPython.display import Markdown, display\n",
    "display(Markdown(\"care_plan.md\"))"
   ]
  },
  {
   "cell_type": "code",
   "execution_count": null,
   "metadata": {},
   "outputs": [],
   "source": [
    "import pandas as pd\n",
    "from tabulate import tabulate\n",
    "from IPython.display import Markdown\n",
    "\n",
    "# CSV-Datei laden\n",
    "df = pd.read_csv(\"nutrtion_plan.csv\")\n",
    "\n",
    "# DataFrame als Markdown-Tabelle anzeigen\n",
    "markdown_table = tabulate(df, headers='keys', tablefmt='pipe', showindex=False)\n",
    "display(Markdown(markdown_table))\n"
   ]
  }
 ],
 "metadata": {
  "kernelspec": {
   "display_name": "myenv",
   "language": "python",
   "name": "python3"
  },
  "language_info": {
   "codemirror_mode": {
    "name": "ipython",
    "version": 3
   },
   "file_extension": ".py",
   "mimetype": "text/x-python",
   "name": "python",
   "nbconvert_exporter": "python",
   "pygments_lexer": "ipython3",
   "version": "3.12.3"
  }
 },
 "nbformat": 4,
 "nbformat_minor": 2
}
